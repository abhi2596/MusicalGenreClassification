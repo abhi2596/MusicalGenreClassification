{
 "cells": [
  {
   "cell_type": "code",
   "execution_count": 30,
   "id": "be7a75a9",
   "metadata": {},
   "outputs": [],
   "source": [
    "import librosa \n",
    "import numpy as np\n",
    "from sklearn.neighbors import KNeighborsClassifier\n",
    "import os \n",
    "import sklearn\n",
    "import pandas as pd\n",
    "from sklearn.model_selection import train_test_split\n",
    "from sklearn.metrics import accuracy_score\n",
    "from sklearn.preprocessing import MinMaxScaler"
   ]
  },
  {
   "cell_type": "code",
   "execution_count": 31,
   "id": "c01a9a17",
   "metadata": {},
   "outputs": [],
   "source": [
    "# refer to paper for the features to be extracted\n",
    "def extract_features(signal):\n",
    "\n",
    "    result = []\n",
    "    features = []\n",
    "\n",
    "    spectral_centroid = librosa.feature.spectral_centroid(y=signal)\n",
    "    spectral_rollof = librosa.feature.spectral_rolloff(y=signal)\n",
    "    spectral_flux = librosa.onset.onset_strength(y=signal,center=True)\n",
    "    zero_crossing = librosa.feature.zero_crossing_rate(y=signal)\n",
    "    rms = librosa.feature.rms(y=signal)\n",
    "    mfcc = librosa.feature.mfcc(y=signal)\n",
    "\n",
    "    features.append(spectral_centroid)\n",
    "    features.append(spectral_rollof)\n",
    "    features.append(spectral_flux)\n",
    "    features.append(zero_crossing)\n",
    "    features.append(rms)\n",
    "\n",
    "    for feature in features:\n",
    "        result.append(np.mean(feature))\n",
    "        result.append(np.std(feature))\n",
    "\n",
    "    for i in range(0, 5):\n",
    "        result.append(np.mean(mfcc[i, :]))\n",
    "        result.append(np.std(mfcc[i, :]))\n",
    "\n",
    "    return result"
   ]
  },
  {
   "cell_type": "code",
   "execution_count": 32,
   "id": "26bce813",
   "metadata": {},
   "outputs": [],
   "source": [
    "genre_directory_path = os.path.join(os.getcwd(),\"genres\")\n",
    "labels = os.listdir(genre_directory_path)\n",
    "dataset = None\n",
    "target = []\n",
    "for label in labels:\n",
    "    data_path = os.path.join(genre_directory_path,label)\n",
    "    for file in os.listdir(data_path):\n",
    "        audio_path = os.path.join(data_path,file)\n",
    "        audio_sample,sr = librosa.load(audio_path)\n",
    "        audio_sample = np.array(audio_sample)\n",
    "        feature = extract_features(audio_sample)\n",
    "        if dataset is None:\n",
    "            dataset = np.array(feature)\n",
    "        else:\n",
    "            dataset = np.vstack((dataset,feature))\n",
    "        target.append(label)"
   ]
  },
  {
   "cell_type": "code",
   "execution_count": 33,
   "id": "12b41206",
   "metadata": {},
   "outputs": [
    {
     "name": "stdout",
     "output_type": "stream",
     "text": [
      "0.615\n"
     ]
    }
   ],
   "source": [
    "X_train,X_test,y_train,y_test = train_test_split(dataset,target,test_size=0.20,random_state=42)\n",
    "scaler = MinMaxScaler(feature_range=(-1, 1))\n",
    "X_train = scaler.fit_transform(X_train)\n",
    "knn = KNeighborsClassifier(3)\n",
    "knn.fit(X_train,y_train)\n",
    "X_test = scaler.transform(X_test)\n",
    "y_pred = knn.predict(X_test)\n",
    "print(accuracy_score(y_test,y_pred))"
   ]
  },
  {
   "cell_type": "code",
   "execution_count": null,
   "id": "aae1bca3",
   "metadata": {},
   "outputs": [],
   "source": []
  }
 ],
 "metadata": {
  "kernelspec": {
   "display_name": "Python 3 (ipykernel)",
   "language": "python",
   "name": "python3"
  },
  "language_info": {
   "codemirror_mode": {
    "name": "ipython",
    "version": 3
   },
   "file_extension": ".py",
   "mimetype": "text/x-python",
   "name": "python",
   "nbconvert_exporter": "python",
   "pygments_lexer": "ipython3",
   "version": "3.9.5"
  }
 },
 "nbformat": 4,
 "nbformat_minor": 5
}
